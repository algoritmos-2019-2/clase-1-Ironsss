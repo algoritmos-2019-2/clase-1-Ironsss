{
 "cells": [
  {
   "cell_type": "markdown",
   "metadata": {},
   "source": [
    "## Práctica 5 \n",
    "### García Espinosa David Alexis"
   ]
  },
  {
   "cell_type": "markdown",
   "metadata": {},
   "source": [
    "### Arítmetica del punto flotante"
   ]
  },
  {
   "cell_type": "markdown",
   "metadata": {},
   "source": [
    "### Ejercicio 1:"
   ]
  },
  {
   "cell_type": "markdown",
   "metadata": {},
   "source": [
    "#### Considerando un sistema de base 10 con exponencial [-2,0]"
   ]
  },
  {
   "cell_type": "code",
   "execution_count": 8,
   "metadata": {},
   "outputs": [],
   "source": [
    "from numpy import *\n",
    "import matplotlib.pyplot as plt\n",
    "\n",
    "E_vales = [-2,-1,0]\n",
    "base = 10\n",
    "d1_vales = [0,1,2,3,4,5,6,7,8,9]\n",
    "d0_vales = [1,2,3,4,5,6,7,8,9]\n",
    "floatnumbers = [0]\n",
    "\n",
    "for E in E_vales:\n",
    "    for d0 in d0_vales:\n",
    "        for d1 in d1_vales:\n",
    "            \n",
    "            floatnumbers.append((d0+d1/base)*base**E)\n",
    "            floatnumbers.append(-1.0*((d0+d1/base)*base**E))"
   ]
  },
  {
   "cell_type": "code",
   "execution_count": 6,
   "metadata": {},
   "outputs": [
    {
     "data": {
      "text/plain": [
       "541"
      ]
     },
     "execution_count": 6,
     "metadata": {},
     "output_type": "execute_result"
    }
   ],
   "source": [
    "len(floatnumbers)"
   ]
  },
  {
   "cell_type": "code",
   "execution_count": 11,
   "metadata": {},
   "outputs": [
    {
     "data": {
      "text/plain": [
       "(-0.03, 0.03)"
      ]
     },
     "execution_count": 11,
     "metadata": {},
     "output_type": "execute_result"
    },
    {
     "data": {
      "image/png": "[encoded data removed]",
      "text/plain": [
       "<Figure size 432x288 with 1 Axes>"
      ]
     },
     "metadata": {
      "needs_background": "light"
     },
     "output_type": "display_data"
    }
   ],
   "source": [
    "plt.plot(floatnumbers, zeros(len(floatnumbers)),\".\")\n",
    "plt.xlim(-0.01*3,0.01*3)\n"
   ]
  },
  {
   "cell_type": "markdown",
   "metadata": {},
   "source": [
    "### Ejercicio 2"
   ]
  },
  {
   "cell_type": "markdown",
   "metadata": {},
   "source": [
    "#### Repetir lo mismo para una base binaria una precisión de 2 "
   ]
  },
  {
   "cell_type": "markdown",
   "metadata": {},
   "source": [
    " $f = \\pm d1.d2 \\times 2^{E}$ "
   ]
  },
  {
   "cell_type": "code",
   "execution_count": 26,
   "metadata": {},
   "outputs": [],
   "source": [
    "E_vales = [-1,0,1]\n",
    "base = 2\n",
    "d1_vales = [1]\n",
    "d2_vales = [0,1]\n",
    "floatnum = [0]\n",
    "\n",
    "for E in E_vales:\n",
    "    for d1 in d1_vales:\n",
    "        for d2 in d2_vales:\n",
    "            floatnum.append((d1+d2/base)*(base**E))\n",
    "            floatnum.append(-1*((d1+d2/base)*(base**E)))"
   ]
  },
  {
   "cell_type": "code",
   "execution_count": 27,
   "metadata": {},
   "outputs": [
    {
     "data": {
      "text/plain": [
       "13"
      ]
     },
     "execution_count": 27,
     "metadata": {},
     "output_type": "execute_result"
    }
   ],
   "source": [
    "len(floatnum)"
   ]
  },
  {
   "cell_type": "code",
   "execution_count": 34,
   "metadata": {},
   "outputs": [
    {
     "data": {
      "text/plain": [
       "(-0.5, 3.0)"
      ]
     },
     "execution_count": 34,
     "metadata": {},
     "output_type": "execute_result"
    },
    {
     "data": {
      "image/png": "[encoded data removed]",
      "text/plain": [
       "<Figure size 432x288 with 1 Axes>"
      ]
     },
     "metadata": {
      "needs_background": "light"
     },
     "output_type": "display_data"
    }
   ],
   "source": [
    "plt.plot(floatnum, zeros(len(floatnum)),\".\")\n",
    "plt.xlim(-0.5,3.0)"
   ]
  },
  {
   "cell_type": "markdown",
   "metadata": {},
   "source": [
    "#### Calculando máx y min \n",
    "Underflow= UFL = $\\beta^{L}$\n",
    "\n",
    "Overflow level = OFL = $\\beta^{U+1}(1-\\beta^{-p})$\n",
    "\n"
   ]
  },
  {
   "cell_type": "code",
   "execution_count": 33,
   "metadata": {},
   "outputs": [
    {
     "name": "stdout",
     "output_type": "stream",
     "text": [
      "0.5\n",
      "3.0\n"
     ]
    }
   ],
   "source": [
    "x = 2**-1\n",
    "print(x)\n",
    "\n",
    "x2 =(2**(2))*(1-(2**-2))\n",
    "print(x2)"
   ]
  },
  {
   "cell_type": "markdown",
   "metadata": {},
   "source": [
    "### Ejercicio 3 "
   ]
  },
  {
   "cell_type": "markdown",
   "metadata": {},
   "source": [
    "### Realice lo mismo el siguiente sistema de punto flotante (2,3,-1,1)\n",
    "####  $\\beta =2$, $p=3$,$L=-1$, $U=1$ dado $(\\beta,p,L,U)$"
   ]
  },
  {
   "cell_type": "code",
   "execution_count": 45,
   "metadata": {},
   "outputs": [],
   "source": [
    "E_vales = [-1,0,1]\n",
    "b = 2\n",
    "d1_vales = [1]\n",
    "d2_vales = [0,1]\n",
    "d3_vales = [0,1]\n",
    "floatnumb = [0]\n",
    "\n",
    "for E in E_vales:\n",
    "    for d1 in d1_vales:\n",
    "        for d2 in d2_vales:\n",
    "            for d3 in d3_vales:\n",
    "                \n",
    "                floatnumb.append((d1+d2/b+d3/(b**2))*(b**E))\n",
    "                floatnumb.append(-1*(d1+d2/b+d3/(b**2))*(b**E))"
   ]
  },
  {
   "cell_type": "code",
   "execution_count": 47,
   "metadata": {},
   "outputs": [
    {
     "data": {
      "text/plain": [
       "25"
      ]
     },
     "execution_count": 47,
     "metadata": {},
     "output_type": "execute_result"
    }
   ],
   "source": [
    "len(floatnumb)"
   ]
  },
  {
   "cell_type": "code",
   "execution_count": 48,
   "metadata": {},
   "outputs": [
    {
     "data": {
      "text/plain": [
       "(-0.5, 3.0)"
      ]
     },
     "execution_count": 48,
     "metadata": {},
     "output_type": "execute_result"
    },
    {
     "data": {
      "image/png": "[encoded data removed]",
      "text/plain": [
       "<Figure size 432x288 with 1 Axes>"
      ]
     },
     "metadata": {
      "needs_background": "light"
     },
     "output_type": "display_data"
    }
   ],
   "source": [
    "plt.plot(floatnumb, zeros(len(floatnumb)),\".\")\n",
    "plt.xlim(-0.5,3.0)"
   ]
  },
  {
   "cell_type": "markdown",
   "metadata": {},
   "source": [
    "#### Calculando máx y min \n",
    "Underflow= UFL = $\\beta^{L}$\n",
    "\n",
    "Overflow level = OFL = $\\beta^{U+1}(1-\\beta^{-p})$\n"
   ]
  },
  {
   "cell_type": "code",
   "execution_count": 49,
   "metadata": {},
   "outputs": [
    {
     "name": "stdout",
     "output_type": "stream",
     "text": [
      "0.5\n",
      "3.0\n"
     ]
    }
   ],
   "source": [
    "x = 2**-1\n",
    "print(x)\n",
    "\n",
    "x2 =(2**(2))*(1-(2**-2))\n",
    "print(x2)"
   ]
  },
  {
   "cell_type": "markdown",
   "metadata": {},
   "source": [
    "### Ejercicio 4"
   ]
  },
  {
   "cell_type": "markdown",
   "metadata": {},
   "source": [
    "Realicé una función que se llame elemetsFloat(base, 3, L, U)\n",
    "\n",
    "y genere un sistema de punto flotante, para una base y exponentes dados. Pero presición $3$ Además esta función debe de regresar la cantidad de elementos del sistema así como los $UFL$ y $OFL$"
   ]
  },
  {
   "cell_type": "code",
   "execution_count": 134,
   "metadata": {},
   "outputs": [
    {
     "data": {
      "text/plain": [
       "array([1., 2., 3., 4., 5., 6., 7., 8., 9.])"
      ]
     },
     "execution_count": 134,
     "metadata": {},
     "output_type": "execute_result"
    }
   ],
   "source": [
    "base\n",
    "linspace(1,9, 9)"
   ]
  },
  {
   "cell_type": "code",
   "execution_count": 147,
   "metadata": {},
   "outputs": [],
   "source": [
    "def elementsFloat(base,p,L,U):\n",
    "    ##Generando el sistema\n",
    "    p=3\n",
    "    b = base\n",
    "    E_vales = []\n",
    "    d0_vales = []\n",
    "    d1_vales = []\n",
    "    d2_vales = []\n",
    "    floatnumb = []\n",
    "    x1 = L\n",
    "    x2 = U\n",
    "    for k in range(L,U+1):\n",
    "        E_vales.append(k)\n",
    "    \n",
    "    for s in range(b):\n",
    "        d0_vales.append(s)\n",
    "        d1_vales.append(s)\n",
    "        d2_vales.append(s)\n",
    "    d0_vales.remove(0)    \n",
    "    print(d0_vales)\n",
    "    print(d1_vales)\n",
    "    print(d2_vales)\n",
    "    print(E_vales)\n",
    "    \n",
    "    for E in E_vales:\n",
    "        for d0 in d0_vales:\n",
    "            for d1 in d1_vales:\n",
    "                for d2 in d2_vales:\n",
    "                    floatnumb.append((d0+ d1/b + d2/(b**2))*(b**E))\n",
    "                    floatnumb.append(-1.0*(d0+d2/b+d2/(b**2))*(b**E))\n",
    "                    \n",
    "    print(len(floatnumb))\n",
    "                    \n",
    "    #Calculando UFL Y OFL \n",
    "    UFL = (b**L)\n",
    "    OFl = (b**(x2+1))*(1-(b**(-p)))\n",
    "     \n",
    "    return b**L, (b**(x2+1))*(1-(b**(-p)))"
   ]
  },
  {
   "cell_type": "code",
   "execution_count": 151,
   "metadata": {},
   "outputs": [
    {
     "name": "stdout",
     "output_type": "stream",
     "text": [
      "[1, 2, 3, 4, 5, 6, 7, 8, 9]\n",
      "[0, 1, 2, 3, 4, 5, 6, 7, 8, 9]\n",
      "[0, 1, 2, 3, 4, 5, 6, 7, 8, 9]\n",
      "[-1, 0, 1]\n",
      "5400\n"
     ]
    },
    {
     "data": {
      "text/plain": [
       "(0.1, 99.9)"
      ]
     },
     "execution_count": 151,
     "metadata": {},
     "output_type": "execute_result"
    }
   ],
   "source": [
    "elementsFloat(10,3,-1,1)\n"
   ]
  },
  {
   "cell_type": "code",
   "execution_count": 152,
   "metadata": {},
   "outputs": [
    {
     "name": "stdout",
     "output_type": "stream",
     "text": [
      "[1, 2, 3, 4, 5, 6, 7, 8, 9]\n",
      "[0, 1, 2, 3, 4, 5, 6, 7, 8, 9]\n",
      "[0, 1, 2, 3, 4, 5, 6, 7, 8, 9]\n",
      "[-2, -1, 0]\n",
      "5400\n"
     ]
    },
    {
     "data": {
      "text/plain": [
       "(0.01, 9.99)"
      ]
     },
     "execution_count": 152,
     "metadata": {},
     "output_type": "execute_result"
    }
   ],
   "source": [
    "elementsFloat(10,3,-2,0)"
   ]
  },
  {
   "cell_type": "code",
   "execution_count": 154,
   "metadata": {},
   "outputs": [
    {
     "name": "stdout",
     "output_type": "stream",
     "text": [
      "[1, 2, 3, 4, 5, 6, 7, 8, 9]\n",
      "[0, 1, 2, 3, 4, 5, 6, 7, 8, 9]\n",
      "[0, 1, 2, 3, 4, 5, 6, 7, 8, 9]\n",
      "[-2, -1, 0, 1, 2, 3, 4, 5, 6]\n",
      "16200\n"
     ]
    },
    {
     "data": {
      "text/plain": [
       "(0.01, 9990000.0)"
      ]
     },
     "execution_count": 154,
     "metadata": {},
     "output_type": "execute_result"
    }
   ],
   "source": [
    "elementsFloat(10,3,-2,6)"
   ]
  },
  {
   "cell_type": "code",
   "execution_count": null,
   "metadata": {},
   "outputs": [],
   "source": []
  }
 ],
 "metadata": {
  "kernelspec": {
   "display_name": "Python 3",
   "language": "python",
   "name": "python3"
  },
  "language_info": {
   "codemirror_mode": {
    "name": "ipython",
    "version": 3
   },
   "file_extension": ".py",
   "mimetype": "text/x-python",
   "name": "python",
   "nbconvert_exporter": "python",
   "pygments_lexer": "ipython3",
   "version": "3.5.2"
  }
 },
 "nbformat": 4,
 "nbformat_minor": 2
}
