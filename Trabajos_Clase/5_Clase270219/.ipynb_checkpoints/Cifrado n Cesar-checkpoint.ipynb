{
 "cells": [
  {
   "cell_type": "markdown",
   "metadata": {},
   "source": [
    "## Programa de cifrado Julio Cesar "
   ]
  },
  {
   "cell_type": "markdown",
   "metadata": {},
   "source": [
    "### García Espinosa David Alexis Algoritmos C. 2019-2"
   ]
  },
  {
   "cell_type": "markdown",
   "metadata": {},
   "source": [
    "#### Programa capaz de cifrar un archivo de texto dado al cambiar las letras de su contenido por otras letras en una posición adelantada "
   ]
  },
  {
   "cell_type": "code",
   "execution_count": 43,
   "metadata": {},
   "outputs": [],
   "source": [
    "#Cifrado cesar prueba para cadenas de letras minúsculas \n",
    "abc = 'abcdefghijklmnopqrstuvwxyz'\n",
    "ABC = 'ABCDEFGHIJKLMNOPQRSTUVWXYZ'\n",
    "def cifnces(mens,clav):\n",
    "    mens_cifrado = ''\n",
    "    len(mens) #Valor de la cadena dado por su número de elementos\n",
    "    for i in mens:\n",
    "        \n",
    "        suma = abc.find(i) + clav\n",
    "        mod = int(suma) % len(abc)  #Obtención del módulo de 27 (mod27)\n",
    "        mens_cifrado = mens_cifrado + str(abc[mod])\n",
    "        \n",
    "    return mens_cifrado\n",
    "    \n",
    "    "
   ]
  },
  {
   "cell_type": "code",
   "execution_count": 51,
   "metadata": {
    "scrolled": true
   },
   "outputs": [
    {
     "name": "stdout",
     "output_type": "stream",
     "text": [
      "cual es tu mensaje:hola\n",
      "numero de codificador:3\n",
      "krod\n"
     ]
    }
   ],
   "source": [
    "msng =input(\"cual es tu mensaje:\")\n",
    "num = int(input(\"numero de codificador:\"))\n",
    "\n",
    "print (cifnces(msng,num))"
   ]
  },
  {
   "cell_type": "code",
   "execution_count": 74,
   "metadata": {},
   "outputs": [],
   "source": [
    "#Decifrado cesar prueba para cadenas de letras minúsculas \n",
    "abc = 'abcdefghijklmnopqrstuvwxyz'\n",
    "ABC = 'ABCDEFGHIJKLMNOPQRSTUVWXYZ'\n",
    "def dcifnces(mens,clav):\n",
    "    mens_dcifrado = ''\n",
    "    len(mens) #Valor de la cadena dado por su número de elementos\n",
    "    for i in mens:\n",
    "        \n",
    "        suma = abc.find(i) - clav\n",
    "        mod = int(suma) % len(abc)  #Obtención del módulo de 27 (mod27)\n",
    "        mens_dcifrado = mens_dcifrado + str(abc[mod])\n",
    "        \n",
    "    return mens_dcifrado"
   ]
  },
  {
   "cell_type": "code",
   "execution_count": 82,
   "metadata": {},
   "outputs": [
    {
     "name": "stdout",
     "output_type": "stream",
     "text": [
      "Este es el contenido original de tu archvo:\n",
      "ejemplo de contenido proveniente de  un texto\n",
      "Número codificador:3\n",
      "considere la letra c como un espacio\n",
      "hmhpsorcghcfrqwhqlgrcsuryhqlhqwhcghccxqcwhawr\n",
      "Se ha guardado en el archivo Arch2cm lo siguiente:\n",
      "chmhpsorcghcfrqwhqlgrcsuryhqlhqwhcghccxqcwhawr\n"
     ]
    }
   ],
   "source": [
    "#-*- coding: utf8 -*-\n",
    "doc = open(\"Archivo.txt\",'r') #función para mandar a llamar el archivo deseado\n",
    "str(doc)\n",
    "a = doc.read() #Manejo de la información del .txt en base a una cadena \n",
    "print(\"Este es el contenido original de tu archvo:\")\n",
    "print(a) # Imprime el contenido original \n",
    "doc.close()\n",
    "num = int(input(\"Número codificador:\"))\n",
    "print(\"considere la letra c como un espacio\")\n",
    "print(cifnces(a,num)) # hacer la lectura permite realizar la función de manera directa \n",
    "\n",
    "cif = open(\"Arch2mc.txt\",'a')\n",
    "cif.write('c')      #Escribe en el nuevo documento el cirfrado obtenido más una c para evaluar si es un espacio o no\n",
    "cif.write(cifnces(a,num))\n",
    "cif.close()\n",
    "\n",
    "cifr = open(\"Arch2mc.txt\",'r')\n",
    "\n",
    "print(\"Se ha guardado en el archivo Arch2cm lo siguiente:\")\n",
    "print(cifr.read())\n",
    "cifr.close()"
   ]
  },
  {
   "cell_type": "code",
   "execution_count": 84,
   "metadata": {},
   "outputs": [
    {
     "name": "stdout",
     "output_type": "stream",
     "text": [
      "Cual es la clave para decifrar el texto:3\n",
      "su texto es:\n",
      "zejemplozdezcontenidozprovenientezdezzunztexto\n",
      "Considerar z como el espacio en el texto\n"
     ]
    }
   ],
   "source": [
    "#verificando que el programa funcione al decifrar el contenido cifrado enteriormente \n",
    "\n",
    "cif = open(\"Arch2mc.txt\",'r')\n",
    "k = cif.read()\n",
    "num2 = int(input(\"Cual es la clave para decifrar el texto:\"))\n",
    "print(\"su texto es:\")\n",
    "print(dcifnces(k,num2))\n",
    "print(\"Considerar z como el espacio en el texto\")"
   ]
  },
  {
   "cell_type": "markdown",
   "metadata": {},
   "source": [
    "# Nota:"
   ]
  },
  {
   "cell_type": "markdown",
   "metadata": {},
   "source": [
    "### Se ejecuto el programa varias veces y se logro cifrar un mismo documento por varias claves cada sección sin embargo la manera de como decifrarlo ya no pudo ser realizada por falta de tiempo.\n",
    "\n"
   ]
  },
  {
   "cell_type": "code",
   "execution_count": null,
   "metadata": {},
   "outputs": [],
   "source": []
  }
 ],
 "metadata": {
  "kernelspec": {
   "display_name": "Python 3",
   "language": "python",
   "name": "python3"
  },
  "language_info": {
   "codemirror_mode": {
    "name": "ipython",
    "version": 3
   },
   "file_extension": ".py",
   "mimetype": "text/x-python",
   "name": "python",
   "nbconvert_exporter": "python",
   "pygments_lexer": "ipython3",
   "version": "3.5.2"
  }
 },
 "nbformat": 4,
 "nbformat_minor": 2
}
