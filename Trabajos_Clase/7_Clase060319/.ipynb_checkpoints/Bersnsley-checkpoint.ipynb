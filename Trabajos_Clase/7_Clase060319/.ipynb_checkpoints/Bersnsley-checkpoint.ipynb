{
 "cells": [
  {
   "cell_type": "markdown",
   "metadata": {},
   "source": [
    "# Programa para generar el helecho de Barsnsley (Automata)"
   ]
  },
  {
   "cell_type": "markdown",
   "metadata": {},
   "source": [
    "### García Espinosa David Alexis"
   ]
  },
  {
   "cell_type": "code",
   "execution_count": 60,
   "metadata": {},
   "outputs": [
    {
     "name": "stdout",
     "output_type": "stream",
     "text": [
      "16\n",
      "[0, 0]\n",
      "[0.85, 0.04, -0.04, 0.85]\n",
      "[0, 1.6]\n",
      "[ 2.55  0.12 -0.12  2.55]\n"
     ]
    },
    {
     "data": {
      "text/plain": [
       "matrix([[ 0.85,  0.04],\n",
       "        [-0.04,  0.85]])"
      ]
     },
     "execution_count": 60,
     "metadata": {},
     "output_type": "execute_result"
    }
   ],
   "source": [
    "import numpy as np\n",
    "from random import randint \n",
    "a = 0     #Declaración de variables\n",
    "b = 0\n",
    "c = 0\n",
    "d = 0\n",
    "e = 0\n",
    "f = 0\n",
    "x = 0\n",
    "y = 0\n",
    "    \n",
    "p = randint(0,100) #Definición del uso de un valor aleatorio \n",
    "print(p)\n",
    "    \n",
    "if p == 1:            #asignación de valores de acuerdo al valor p dado por \n",
    "        a,b,c,e,f = 0    #Probabilidad de randint\n",
    "        d = 0.16\n",
    "elif 1 < p < 86:\n",
    "            a = 0.85\n",
    "            b = 0.04\n",
    "            c = -0.04\n",
    "            d = 0.85\n",
    "            f = 1.60\n",
    "elif 86< p <93:\n",
    "                a = 0.20\n",
    "                b = -0.26\n",
    "                c = 0.23\n",
    "                d = 0.22\n",
    "                f = 1.60\n",
    "elif 93< p <= 100:\n",
    "                    a =  -0.15\n",
    "                    b =  0.28\n",
    "                    c =  0.26\n",
    "                    d =  0.24\n",
    "                    f =  0.44 \n",
    "                    \n",
    "l1 = [x,y]\n",
    "l2 = [a,b,c,d]\n",
    "l3 = [e,f]\n",
    "\n",
    "la1 = np.array(l1)\n",
    "la2 = np.array(l2)\n",
    "la3 = np.array(l3)\n",
    "\n",
    "r1 = 3*la2\n",
    "\n",
    "print(l1) #Checkpoints para asegurar asignación parcial de valores en aij\n",
    "print(l2)\n",
    "print(l3)\n",
    "print(r1)\n",
    "\n",
    "matrix(la2.reshape(2,2))                           \n",
    "            \n",
    "        \n"
   ]
  },
  {
   "cell_type": "code",
   "execution_count": 56,
   "metadata": {},
   "outputs": [],
   "source": [
    "from numpy import *\n",
    "l = array( [1,2,3,4] )\n"
   ]
  },
  {
   "cell_type": "code",
   "execution_count": 59,
   "metadata": {},
   "outputs": [
    {
     "data": {
      "text/plain": [
       "matrix([[1, 2],\n",
       "        [3, 4]])"
      ]
     },
     "execution_count": 59,
     "metadata": {},
     "output_type": "execute_result"
    }
   ],
   "source": [
    "matrix(l.reshape(2,2))"
   ]
  },
  {
   "cell_type": "code",
   "execution_count": null,
   "metadata": {},
   "outputs": [],
   "source": []
  },
  {
   "cell_type": "code",
   "execution_count": null,
   "metadata": {},
   "outputs": [],
   "source": []
  }
 ],
 "metadata": {
  "kernelspec": {
   "display_name": "Python 3",
   "language": "python",
   "name": "python3"
  },
  "language_info": {
   "codemirror_mode": {
    "name": "ipython",
    "version": 3
   },
   "file_extension": ".py",
   "mimetype": "text/x-python",
   "name": "python",
   "nbconvert_exporter": "python",
   "pygments_lexer": "ipython3",
   "version": "3.5.2"
  }
 },
 "nbformat": 4,
 "nbformat_minor": 2
}
