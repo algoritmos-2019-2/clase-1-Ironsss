{
 "cells": [
  {
   "cell_type": "markdown",
   "metadata": {},
   "source": [
    "# Programa para generar el helecho de Barsnsley (Automata)"
   ]
  },
  {
   "cell_type": "markdown",
   "metadata": {},
   "source": [
    "### García Espinosa David Alexis"
   ]
  },
  {
   "cell_type": "code",
   "execution_count": 3,
   "metadata": {},
   "outputs": [
    {
     "name": "stdout",
     "output_type": "stream",
     "text": [
      "19\n",
      "[0, 0]\n",
      "[0.85, 0.04, -0.04, 0.85]\n",
      "[0, 1.6]\n",
      "[ 2.55  0.12 -0.12  2.55]\n"
     ]
    }
   ],
   "source": [
    "from numpy import *\n",
    "from random import randint \n",
    "a = 0     #Declaración de variables\n",
    "b = 0\n",
    "c = 0\n",
    "d = 0\n",
    "e = 0\n",
    "f = 0\n",
    "x = 0\n",
    "y = 0\n",
    "    \n",
    "p = randint(0,100) #Definición del uso de un valor aleatorio \n",
    "print(p)\n",
    "    \n",
    "if p == 1:            #asignación de valores de acuerdo al valor p dado por \n",
    "        a,b,c,e,f = 0    #Probabilidad de randint\n",
    "        d = 0.16\n",
    "elif 1 < p < 86:\n",
    "            a = 0.85\n",
    "            b = 0.04\n",
    "            c = -0.04\n",
    "            d = 0.85\n",
    "            f = 1.60\n",
    "elif 86< p <93:\n",
    "                a = 0.20\n",
    "                b = -0.26\n",
    "                c = 0.23\n",
    "                d = 0.22\n",
    "                f = 1.60\n",
    "elif 93< p <= 100:\n",
    "                    a =  -0.15\n",
    "                    b =  0.28\n",
    "                    c =  0.26\n",
    "                    d =  0.24\n",
    "                    f =  0.44 \n",
    "                    \n",
    "l1 = [x,y]\n",
    "l2 = [a,b,c,d]\n",
    "l3 = [e,f]\n",
    "l4 = [a,b,c,d,e,f]\n",
    "\n",
    "la1 = array(l1)\n",
    "la2 = array(l2)\n",
    "la3 = array(l3)\n",
    "la4 = array(l4)\n",
    "r1 = 3*la2\n",
    "\n",
    "print(l1) #Checkpoints para asegurar asignación parcial de valores en aij\n",
    "print(l2)\n",
    "print(l3)\n",
    "print(r1)\n",
    "\n",
    "            \n",
    "        \n"
   ]
  },
  {
   "cell_type": "code",
   "execution_count": 176,
   "metadata": {},
   "outputs": [],
   "source": [
    "from numpy import *\n",
    "from random import randint \n",
    "\n",
    "def volado():\n",
    "        p = randint(0,100)\n",
    "        if p == 1: #asignación de valores de acuerdo al valor p dado por \n",
    "            return([0.,0.,0.,0.,0.,0.])\n",
    "        elif 1 < p < 86:\n",
    "            return([0.85,0.04,-0.04,0.85,0,1.60])\n",
    "        elif 86< p <93:\n",
    "            return([0.20,-0.26,0.23,0.22,0,1.60])\n",
    "        elif 93< p <= 100:\n",
    "            return([-0.15,0.28,0.26,0.24,0,0.44])\n",
    "    \n",
    "    "
   ]
  },
  {
   "cell_type": "code",
   "execution_count": 177,
   "metadata": {},
   "outputs": [
    {
     "data": {
      "text/plain": [
       "[0.85, 0.04, -0.04, 0.85, 0, 1.6]"
      ]
     },
     "execution_count": 177,
     "metadata": {},
     "output_type": "execute_result"
    }
   ],
   "source": [
    "volado()"
   ]
  },
  {
   "cell_type": "code",
   "execution_count": 239,
   "metadata": {},
   "outputs": [],
   "source": [
    "from numpy import *\n",
    "from random import randint\n",
    "\n",
    "def helecho(l,l2):\n",
    "        V  = array(l)\n",
    "        l2 = array(l2)\n",
    "        M1 = l2[0:4]\n",
    "        M2 = l2[4:6]\n",
    "    \n",
    "        Vm = matrix(V.reshape(2,1))\n",
    "        M1m = matrix(M1.reshape(2,2))\n",
    "        M2m = matrix(M2.reshape(2,1))\n",
    "    \n",
    "    \n",
    "    #print(Vm)\n",
    "    #print(M1m)\n",
    "    #print(M2m)\n",
    "    \n",
    "        Vm = M1m*Vm + M2m \n",
    "        return asarray(Vm)"
   ]
  },
  {
   "cell_type": "code",
   "execution_count": 240,
   "metadata": {},
   "outputs": [
    {
     "data": {
      "text/plain": [
       "array([[0. ],\n",
       "       [1.6]])"
      ]
     },
     "execution_count": 240,
     "metadata": {},
     "output_type": "execute_result"
    }
   ],
   "source": [
    "helecho([0,0],volado())"
   ]
  },
  {
   "cell_type": "code",
   "execution_count": 268,
   "metadata": {},
   "outputs": [],
   "source": [
    "def bersenley(k2):\n",
    "    li1 = helecho([0,0],volado())\n",
    "    \n",
    "    for i in range(k2):\n",
    "        lis = helecho(li1,volado())\n",
    "        li1 = lis\n",
    "        li1List = li1[0:1]\n",
    "        li2 = li1[1:0]\n",
    "        print(lis)\n",
    "    "
   ]
  },
  {
   "cell_type": "code",
   "execution_count": 269,
   "metadata": {},
   "outputs": [
    {
     "name": "stdout",
     "output_type": "stream",
     "text": [
      "[[0.064]\n",
      " [2.96 ]]\n",
      "[[0.1728 ]\n",
      " [4.11344]]\n",
      "[[0.3114176]\n",
      " [5.089512 ]]\n",
      "[[0.46828544]\n",
      " [5.9136285 ]]\n",
      "[[0.63458776]\n",
      " [6.6078528 ]]\n",
      "[[0.80371371]\n",
      " [7.19129137]]\n",
      "[[0.97080831]\n",
      " [7.68044912]]\n",
      "[[1.13240503]\n",
      " [8.08954942]]\n",
      "[[1.28612625]\n",
      " [8.4308208 ]]\n",
      "[[1.43044015]\n",
      " [8.71475263]]\n"
     ]
    }
   ],
   "source": [
    "bersenley(10)"
   ]
  },
  {
   "cell_type": "code",
   "execution_count": 258,
   "metadata": {},
   "outputs": [
    {
     "ename": "ImportError",
     "evalue": "No module named 'matplotlib'",
     "output_type": "error",
     "traceback": [
      "\u001b[0;31m---------------------------------------------------------------------------\u001b[0m",
      "\u001b[0;31mImportError\u001b[0m                               Traceback (most recent call last)",
      "\u001b[0;32m<ipython-input-258-4932121e6116>\u001b[0m in \u001b[0;36m<module>\u001b[0;34m\u001b[0m\n\u001b[0;32m----> 1\u001b[0;31m \u001b[0;32mimport\u001b[0m \u001b[0mmatplotlib\u001b[0m\u001b[0;34m.\u001b[0m\u001b[0mpyplot\u001b[0m \u001b[0;32mas\u001b[0m \u001b[0mplt\u001b[0m\u001b[0;34m\u001b[0m\u001b[0m\n\u001b[0m\u001b[1;32m      2\u001b[0m \u001b[0;34m\u001b[0m\u001b[0m\n\u001b[1;32m      3\u001b[0m \u001b[0;34m\u001b[0m\u001b[0m\n\u001b[1;32m      4\u001b[0m \u001b[0mplt\u001b[0m\u001b[0;34m.\u001b[0m\u001b[0mscatter\u001b[0m\u001b[0;34m(\u001b[0m\u001b[0mxs\u001b[0m\u001b[0;34m,\u001b[0m \u001b[0mys\u001b[0m\u001b[0;34m,\u001b[0m \u001b[0ms\u001b[0m \u001b[0;34m=\u001b[0m \u001b[0;36m0.2\u001b[0m\u001b[0;34m,\u001b[0m \u001b[0medgecolor\u001b[0m \u001b[0;34m=\u001b[0m\u001b[0;34m'green'\u001b[0m\u001b[0;34m)\u001b[0m\u001b[0;34m\u001b[0m\u001b[0m\n\u001b[1;32m      5\u001b[0m \u001b[0;34m\u001b[0m\u001b[0m\n",
      "\u001b[0;31mImportError\u001b[0m: No module named 'matplotlib'"
     ]
    }
   ],
   "source": [
    "import matplotlib.pyplot as plt\n",
    "\n",
    "\n",
    "plt.scatter(xs, ys, s = 0.2, edgecolor ='green')\n",
    "\n"
   ]
  },
  {
   "cell_type": "code",
   "execution_count": 259,
   "metadata": {},
   "outputs": [
    {
     "name": "stdout",
     "output_type": "stream",
     "text": [
      "[[0.064]\n",
      " [2.96 ]]\n"
     ]
    },
    {
     "data": {
      "text/plain": [
       "array([[0.064],\n",
       "       [2.96 ]])"
      ]
     },
     "execution_count": 259,
     "metadata": {},
     "output_type": "execute_result"
    }
   ],
   "source": [
    "bersenley(10)"
   ]
  },
  {
   "cell_type": "raw",
   "metadata": {},
   "source": []
  },
  {
   "cell_type": "code",
   "execution_count": 192,
   "metadata": {},
   "outputs": [
    {
     "data": {
      "text/plain": [
       "matrix([[0. ],\n",
       "        [1.6]])"
      ]
     },
     "execution_count": 192,
     "metadata": {},
     "output_type": "execute_result"
    }
   ],
   "source": [
    "helecho([0,0],volado())"
   ]
  },
  {
   "cell_type": "code",
   "execution_count": null,
   "metadata": {},
   "outputs": [],
   "source": []
  },
  {
   "cell_type": "code",
   "execution_count": 148,
   "metadata": {},
   "outputs": [],
   "source": [
    "from numpy import *\n",
    "l = array( [1,2,3,4] )\n",
    "\n"
   ]
  },
  {
   "cell_type": "code",
   "execution_count": null,
   "metadata": {},
   "outputs": [],
   "source": []
  },
  {
   "cell_type": "code",
   "execution_count": 59,
   "metadata": {},
   "outputs": [
    {
     "data": {
      "text/plain": [
       "matrix([[1, 2],\n",
       "        [3, 4]])"
      ]
     },
     "execution_count": 59,
     "metadata": {},
     "output_type": "execute_result"
    }
   ],
   "source": [
    "matrix(l.reshape(2,2))"
   ]
  },
  {
   "cell_type": "code",
   "execution_count": null,
   "metadata": {},
   "outputs": [],
   "source": []
  },
  {
   "cell_type": "code",
   "execution_count": null,
   "metadata": {},
   "outputs": [],
   "source": []
  }
 ],
 "metadata": {
  "kernelspec": {
   "display_name": "Python 3",
   "language": "python",
   "name": "python3"
  },
  "language_info": {
   "codemirror_mode": {
    "name": "ipython",
    "version": 3
   },
   "file_extension": ".py",
   "mimetype": "text/x-python",
   "name": "python",
   "nbconvert_exporter": "python",
   "pygments_lexer": "ipython3",
   "version": "3.5.2"
  }
 },
 "nbformat": 4,
 "nbformat_minor": 2
}
