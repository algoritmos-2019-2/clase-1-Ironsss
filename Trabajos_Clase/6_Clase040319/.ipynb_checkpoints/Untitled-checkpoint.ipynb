{
 "cells": [
  {
   "cell_type": "code",
   "execution_count": 9,
   "metadata": {},
   "outputs": [
    {
     "ename": "TabError",
     "evalue": "inconsistent use of tabs and spaces in indentation (<ipython-input-9-2645b638b210>, line 12)",
     "output_type": "error",
     "traceback": [
      "\u001b[0;36m  File \u001b[0;32m\"<ipython-input-9-2645b638b210>\"\u001b[0;36m, line \u001b[0;32m12\u001b[0m\n\u001b[0;31m    suma = ((-1)**i/factorial(aux))*x**aux + suma\u001b[0m\n\u001b[0m                                                 ^\u001b[0m\n\u001b[0;31mTabError\u001b[0m\u001b[0;31m:\u001b[0m inconsistent use of tabs and spaces in indentation\n"
     ]
    }
   ],
   "source": [
    "def factorial(n):\n",
    "    if n == 0 :\n",
    "\t     return 1\n",
    "    else:\n",
    "\t    return n*factorial(n-1)\n",
    "\n",
    "def seno(x,n):\n",
    "\ti = 0\n",
    "\tsuma = 0\n",
    "\twhile i < n:\n",
    "\t        aux = 2*i +1\n",
    "                suma = ((-1)**i/factorial(aux))*x**aux + suma\n",
    "\t        i += 1\n",
    "\treturn suma \n",
    "\n",
    "def coseno(x,n):\n",
    "\ti = 0\n",
    "\tsuma = 0\n",
    "\twhile i < n:\n",
    "\t        aux = 2*i\n",
    "                suma = ((-1)**aux/factorial(aux))*x**aux + suma\n",
    "\t        i += 1\n",
    "\treturn suma \n",
    "\n"
   ]
  },
  {
   "cell_type": "code",
   "execution_count": null,
   "metadata": {},
   "outputs": [],
   "source": []
  },
  {
   "cell_type": "code",
   "execution_count": null,
   "metadata": {},
   "outputs": [],
   "source": []
  }
 ],
 "metadata": {
  "kernelspec": {
   "display_name": "Python 3",
   "language": "python",
   "name": "python3"
  },
  "language_info": {
   "codemirror_mode": {
    "name": "ipython",
    "version": 3
   },
   "file_extension": ".py",
   "mimetype": "text/x-python",
   "name": "python",
   "nbconvert_exporter": "python",
   "pygments_lexer": "ipython3",
   "version": "3.5.2"
  }
 },
 "nbformat": 4,
 "nbformat_minor": 2
}
