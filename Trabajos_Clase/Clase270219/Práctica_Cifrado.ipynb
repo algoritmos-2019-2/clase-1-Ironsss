{
 "cells": [
  {
   "cell_type": "markdown",
   "metadata": {},
   "source": [
    "# El Cifrado de Julio César\n",
    "\n",
    "Durante sus campañas militares, el general romano Julio César escribía mensajes a sus subordinados de la siguiente forma:\n",
    "\n",
    "Sustituía cada letra del abecedario por la letra situada tres lugares más allá en el orden alfabético. Es decir, la letra A se convertiría en D; la B, en E; la C en F y así sucesivamente. Y del mismo modo para la cola: la X sería una A; la Y una B y la Z una C. En resumen, las letras se desplazan tres lugares en el orden alfabético.\n",
    "\n",
    "Por ejemplo, en lugar de escribir CENTURIA escribía FHPWXULD.\n",
    "\n",
    "\n",
    "## Práctica\n",
    "\n",
    "Escribe un script en Python que automatice el cifrado de Julio César. \n",
    "Tu programa debe cumplir las siguientes características:\n",
    "\n",
    "A) Debe leer un archivo de texto que contenga el mensaje por codificar y escribir un nuevo archivo de texto con el mensaje cifrado.\n",
    "\n",
    "B) El programa debe preguntar por cuántos espacios queremos deplazar las letras en nuestro mensaje. \n",
    "\n",
    "\n",
    "\n",
    "El mensaje a codificar puede incluir únicamente:\n",
    "\n",
    "A) Letras mayúsculas y minúsculas (sin acentos).\n",
    "\n",
    "B) Espacios.\n",
    "\n",
    "C) Saltos de línea.\n",
    "\n",
    "\n",
    "\n",
    "\n",
    "\n",
    "\n",
    "\n",
    "\n",
    "\n",
    "\n",
    "\n"
   ]
  }
 ],
 "metadata": {
  "kernelspec": {
   "display_name": "Python 3",
   "language": "python",
   "name": "python3"
  },
  "language_info": {
   "codemirror_mode": {
    "name": "ipython",
    "version": 3
   },
   "file_extension": ".py",
   "mimetype": "text/x-python",
   "name": "python",
   "nbconvert_exporter": "python",
   "pygments_lexer": "ipython3",
   "version": "3.6.8"
  }
 },
 "nbformat": 4,
 "nbformat_minor": 2
}
