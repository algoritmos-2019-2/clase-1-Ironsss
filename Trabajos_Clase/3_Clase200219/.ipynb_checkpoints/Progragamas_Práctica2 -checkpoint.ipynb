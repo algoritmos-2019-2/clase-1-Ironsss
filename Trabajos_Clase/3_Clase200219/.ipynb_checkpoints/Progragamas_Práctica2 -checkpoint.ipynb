{
 "cells": [
  {
   "cell_type": "markdown",
   "metadata": {},
   "source": [
    "## Programas definidos en varias funciones "
   ]
  },
  {
   "cell_type": "markdown",
   "metadata": {},
   "source": [
    "#### García Espinosa David Alexis Algoritmos C. 2019-2"
   ]
  },
  {
   "cell_type": "markdown",
   "metadata": {},
   "source": [
    "### Función 1 verificar si un número es primo "
   ]
  },
  {
   "cell_type": "markdown",
   "metadata": {},
   "source": [
    "#### Debido a que un número es primo solo si se puede dividir entre el mismo y el 1 sin residuos entonces para determinar si un número es primo basta con ver que no hay valores menores a él bajo los cuales se pueda dividir sin dejar residuos"
   ]
  },
  {
   "cell_type": "code",
   "execution_count": null,
   "metadata": {},
   "outputs": [],
   "source": [
    "def testPrime(n):\n",
    "    for i in range(2,n):\n",
    "        if (n%i)==0:\n",
    "            print(\"No es primo\")\n",
    "            return False\n",
    "            break\n",
    "        else:\n",
    "            print(\"Tu número es primo\")\n",
    "            return True\n",
    "            break"
   ]
  },
  {
   "cell_type": "code",
   "execution_count": 35,
   "metadata": {},
   "outputs": [
    {
     "name": "stdout",
     "output_type": "stream",
     "text": [
      "No es primo\n"
     ]
    },
    {
     "data": {
      "text/plain": [
       "False"
      ]
     },
     "execution_count": 35,
     "metadata": {},
     "output_type": "execute_result"
    }
   ],
   "source": [
    "testPrime(10)"
   ]
  },
  {
   "cell_type": "markdown",
   "metadata": {},
   "source": [
    "### Función 2 generar todos los primos menores a un numero \"n\" en los naturales"
   ]
  },
  {
   "cell_type": "code",
   "execution_count": 42,
   "metadata": {},
   "outputs": [],
   "source": [
    "def prime(x):\n",
    "    x = int(input(\"¿Cuantos primos deseas conocer?\"))\n",
    "    k = 2\n",
    "    cuenta = 1\n",
    "    while cuenta<=x:\n",
    "        if testPrime(k)==True:\n",
    "            print(cuenta, k)\n",
    "            cuenta = cuenta +1\n",
    "        k = k+1\n",
    "        "
   ]
  },
  {
   "cell_type": "code",
   "execution_count": 49,
   "metadata": {},
   "outputs": [
    {
     "name": "stdout",
     "output_type": "stream",
     "text": [
      "¿Cuantos primos deseas conocer?1\n",
      "Tu número es primo\n",
      "1 3\n"
     ]
    }
   ],
   "source": [
    "prime(10)"
   ]
  },
  {
   "cell_type": "markdown",
   "metadata": {},
   "source": [
    "## Código correcto"
   ]
  },
  {
   "cell_type": "code",
   "execution_count": 118,
   "metadata": {},
   "outputs": [],
   "source": [
    "def prime2(n):\n",
    "    primos = []\n",
    "    for x in range(2, n+1):\n",
    "        prime2 = True\n",
    "        \n",
    "        for i in range(2, x):\n",
    "            if(x%i == 0):\n",
    "                prime2 = False\n",
    "        if prime2:\n",
    "            primos.append(x)\n",
    "    return primos\n",
    "        \n",
    "                \n",
    "        "
   ]
  },
  {
   "cell_type": "code",
   "execution_count": 123,
   "metadata": {},
   "outputs": [
    {
     "data": {
      "text/plain": [
       "[2, 3, 5, 7]"
      ]
     },
     "execution_count": 123,
     "metadata": {},
     "output_type": "execute_result"
    }
   ],
   "source": [
    "prime2(10)"
   ]
  },
  {
   "cell_type": "markdown",
   "metadata": {},
   "source": [
    "## Función 3 Teorema fundamental de la aritmetica "
   ]
  },
  {
   "cell_type": "code",
   "execution_count": 127,
   "metadata": {},
   "outputs": [
    {
     "data": {
      "text/plain": [
       "[2, 3]"
      ]
     },
     "execution_count": 127,
     "metadata": {},
     "output_type": "execute_result"
    }
   ],
   "source": [
    "theoremArithmetic(500)"
   ]
  },
  {
   "cell_type": "code",
   "execution_count": 135,
   "metadata": {},
   "outputs": [],
   "source": [
    "def theoremArithmetic(n):\n",
    "    facprimos= []\n",
    "    k = 2\n",
    "    while k*k <= n:\n",
    "        while (n % k) == 0:\n",
    "            facprimos.append(k)\n",
    "            n //= k\n",
    "        k += 1\n",
    "    if n > 1:\n",
    "        facprimos.append(k)\n",
    "    return facprimos\n",
    "            \n",
    "            \n",
    "            \n",
    "            \n",
    "            \n",
    "        \n",
    "    "
   ]
  },
  {
   "cell_type": "code",
   "execution_count": 142,
   "metadata": {},
   "outputs": [
    {
     "data": {
      "text/plain": [
       "[2, 2, 2, 3, 4]"
      ]
     },
     "execution_count": 142,
     "metadata": {},
     "output_type": "execute_result"
    }
   ],
   "source": [
    "theoremArithmetic(120)"
   ]
  },
  {
   "cell_type": "markdown",
   "metadata": {},
   "source": [
    "## Función 4 mínimo común multiplo"
   ]
  },
  {
   "cell_type": "code",
   "execution_count": 182,
   "metadata": {},
   "outputs": [],
   "source": [
    "def mcm(n,m):\n",
    "    if n > m:\n",
    "        multi = n\n",
    "    else:\n",
    "        multi = m\n",
    "    while(True):\n",
    "     \n",
    "       if((multi % n == 0) and (multi % m == 0)):\n",
    "            mcm = multi\n",
    "            \n",
    "            break\n",
    "            \n",
    "       multi += 1\n",
    "        \n",
    "    return mcm"
   ]
  },
  {
   "cell_type": "code",
   "execution_count": 184,
   "metadata": {},
   "outputs": [
    {
     "data": {
      "text/plain": [
       "1666"
      ]
     },
     "execution_count": 184,
     "metadata": {},
     "output_type": "execute_result"
    }
   ],
   "source": [
    "mcm(34,98)"
   ]
  },
  {
   "cell_type": "markdown",
   "metadata": {},
   "source": [
    "## Función 5 Máximo común Divisior"
   ]
  },
  {
   "cell_type": "code",
   "execution_count": 185,
   "metadata": {},
   "outputs": [],
   "source": [
    "def MCD(n, m):\n",
    "    res = 0\n",
    "    while(m > 0):\n",
    "        res = m\n",
    "        m = n%m\n",
    "        n = res\n",
    "    return n"
   ]
  },
  {
   "cell_type": "code",
   "execution_count": 187,
   "metadata": {},
   "outputs": [
    {
     "data": {
      "text/plain": [
       "5"
      ]
     },
     "execution_count": 187,
     "metadata": {},
     "output_type": "execute_result"
    }
   ],
   "source": [
    "MCD(15, 25)"
   ]
  },
  {
   "cell_type": "code",
   "execution_count": null,
   "metadata": {},
   "outputs": [],
   "source": []
  }
 ],
 "metadata": {
  "kernelspec": {
   "display_name": "Python 3",
   "language": "python",
   "name": "python3"
  },
  "language_info": {
   "codemirror_mode": {
    "name": "ipython",
    "version": 3
   },
   "file_extension": ".py",
   "mimetype": "text/x-python",
   "name": "python",
   "nbconvert_exporter": "python",
   "pygments_lexer": "ipython3",
   "version": "3.5.2"
  }
 },
 "nbformat": 4,
 "nbformat_minor": 2
}
