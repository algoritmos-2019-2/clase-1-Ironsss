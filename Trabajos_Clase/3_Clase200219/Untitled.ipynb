{
 "cells": [
  {
   "cell_type": "code",
   "execution_count": null,
   "metadata": {},
   "outputs": [],
   "source": [
    "\"\"\"Cuestionario acerca de funciones \n",
    "\n",
    "García Espinosa David Alexis Algoritmos C. 2019-2\n",
    "\n",
    " +++______Funciones\n",
    "\n",
    " *¿Por qué son ventajosas las funciones para tener en sus programas?\n",
    "\tDebido a que nos permiten mandar a llmar códigos muy largos \n",
    "\tdonde algunas veces lo que queremos es la evaluación en de un \n",
    "\tentero en una fórmula, reduciendo así la cantidad de código\n",
    "\n",
    " *¿Cuándo se ejecuta el código en una función: cuando se define la función o cuando se llama a la función?\n",
    "\tCuando se manda a llamar la función *nombrefunción(valor dado)*\n",
    " *¿Qué enunciado crea una función?\n",
    "\tdef \"nombre_función():\"\n",
    " *¿Cuál es la diferencia entre una función y una llamada de función?\n",
    "\tuna función es un conjunto de pasos a seguir sobre los cuales\n",
    "\tse podrá devolver o no una acción y una llamada de función es el caso\n",
    "\tdonde activamos la función definida anteriormente \n",
    " *¿Cuántos ámbitos globales hay en un programa de Python? ¿Cuántos ámbitos locales?\n",
    "\tPython admite 3 tipos de variables las que son locales, no locales y \n",
    "\tglobales estas deenderán si pertenecen a una subrutina(local)\n",
    "\trutina superior(no local) y código principal o rutina principal (global)\n",
    "\tPython tiene palabras reservadas para identificarlas \n",
    "\testas son nonlocal y global\n",
    "\t\n",
    " *¿Qué sucede con las variables en un ámbito local cuando se devuelve la llamada a la función?\n",
    "\tse puden volver varibles de tipo local depende tambien de como se haya\n",
    "\tdefinido la función ya que se pudo haber asignado una variable global\n",
    "\ten una función \n",
    " *¿Qué es un valor de retorno? ¿Puede un valor de retorno ser parte de una expresión?\n",
    "\tUn valor de retorno te devuelve el tipo de variable que sea la función\n",
    "\tes decir si una función tiene cómo codomino los numeros enteros \n",
    "\tel valor de retorno devolvera una variable tipo entero que haya pasado\n",
    "\tpor el conjunto de procesos dentro de la función \n",
    " *Si una función no tiene una declaración de retorno, ¿cuál es el valor de retorno de una llamada a esa función?. \n",
    "\tes un valor de tipo caracter dado que solo devolverá algo en \n",
    "\tcaso de que dentro de la función haya impreso algo una vez impreso \n",
    "\talguna cadena serán devueltas como caracteres\n",
    " *¿Cómo puede forzar una variable en una función para referirse a la variable global?\n",
    "\tgracias a los comandos reservados de global y nolocal para referirse \n",
    "\ta varibles que se encuentra fuera de la definición de la función  \n",
    " *¿Cuál es el tipo de datos de None?\n",
    "\tNone no necesariamente se refiere 0 puede significar ninguno siendo \n",
    "\tun tipo de asignación dinámico dependiente de a quien se lo asignemos\n",
    " *¿Qué hace la declaración import random?\n",
    "\timport manda a llamar cualquier librería de python y en este caso \n",
    "\tmanda llamar la librería random la cual incluye funciones para \n",
    "\taleatorizar conjuntos de números\n",
    " *Si tuviera una función llamada randint() en un módulo llamado random, ¿cómo lo llamaría después de importar random?\n",
    "\tuna vez realizado el comando import random\n",
    "\ttendría acceso a las funciones pudiendo mandar a llamar una función\n",
    "\tcomo si estuviera ya escrita en el código en este caso \n",
    "\trandint(*Valor*)\n",
    "\n",
    "\n",
    "\n",
    " ++++___Lista y tuplas\n",
    " *¿Qué es []?\n",
    "\tEs una forma de realizar un arreglo en el caso de que se le asigne\n",
    "\ta una variable se creeará una lista lista = [1,...,n]\n",
    " *¿Cómo asignaría el valor 'hola' como el tercer valor en una lista almacenada? en una variable llamada spam? \n",
    "\tspam = [1,2,hola,4]\"\"\""
   ]
  },
  {
   "cell_type": "markdown",
   "metadata": {},
   "source": [
    "### ¿Qué evalúa spam[int ('3' * 2) / 11]?"
   ]
  },
  {
   "cell_type": "code",
   "execution_count": 1,
   "metadata": {},
   "outputs": [
    {
     "ename": "TypeError",
     "evalue": "list indices must be integers or slices, not float",
     "output_type": "error",
     "traceback": [
      "\u001b[0;31m---------------------------------------------------------------------------\u001b[0m",
      "\u001b[0;31mTypeError\u001b[0m                                 Traceback (most recent call last)",
      "\u001b[0;32m<ipython-input-1-6a087add21d2>\u001b[0m in \u001b[0;36m<module>\u001b[0;34m\u001b[0m\n\u001b[1;32m      1\u001b[0m \u001b[0mspam\u001b[0m \u001b[0;34m=\u001b[0m \u001b[0;34m[\u001b[0m\u001b[0;36m2\u001b[0m\u001b[0;34m,\u001b[0m\u001b[0;36m4\u001b[0m\u001b[0;34m,\u001b[0m\u001b[0;36m6\u001b[0m\u001b[0;34m,\u001b[0m\u001b[0;36m8\u001b[0m\u001b[0;34m,\u001b[0m\u001b[0;36m10\u001b[0m\u001b[0;34m]\u001b[0m\u001b[0;34m\u001b[0m\u001b[0m\n\u001b[0;32m----> 2\u001b[0;31m \u001b[0mspam\u001b[0m\u001b[0;34m[\u001b[0m\u001b[0mint\u001b[0m\u001b[0;34m(\u001b[0m\u001b[0;34m'3'\u001b[0m\u001b[0;34m*\u001b[0m\u001b[0;36m2\u001b[0m\u001b[0;34m)\u001b[0m\u001b[0;34m/\u001b[0m\u001b[0;36m11\u001b[0m\u001b[0;34m]\u001b[0m\u001b[0;34m\u001b[0m\u001b[0m\n\u001b[0m",
      "\u001b[0;31mTypeError\u001b[0m: list indices must be integers or slices, not float"
     ]
    }
   ],
   "source": [
    "spam = [2,4,6,8,10]\n",
    "spam[int('3'*2)/11]"
   ]
  },
  {
   "cell_type": "markdown",
   "metadata": {},
   "source": [
    "#### Marca error debido a que las acciones que realizan son  sobre enteres y tratan de devolver u flotante por lo que genera un error de variables \n"
   ]
  },
  {
   "cell_type": "markdown",
   "metadata": {},
   "source": [
    "## ¿Qué evalúa spam[-1]?"
   ]
  },
  {
   "cell_type": "code",
   "execution_count": 2,
   "metadata": {},
   "outputs": [
    {
     "data": {
      "text/plain": [
       "10"
      ]
     },
     "execution_count": 2,
     "metadata": {},
     "output_type": "execute_result"
    }
   ],
   "source": [
    "spam = [2, 4, 6, 8, 10]\n",
    "spam[-1]"
   ]
  },
  {
   "cell_type": "markdown",
   "metadata": {},
   "source": [
    "#### Considera a la lista como un objeto matématico cerrado donde el -1 se vuelve el último valor y así ciclicamente"
   ]
  },
  {
   "cell_type": "markdown",
   "metadata": {},
   "source": [
    "## ¿Qué evalúa el spam[: 2]?"
   ]
  },
  {
   "cell_type": "code",
   "execution_count": 3,
   "metadata": {},
   "outputs": [
    {
     "data": {
      "text/plain": [
       "[2, 4]"
      ]
     },
     "execution_count": 3,
     "metadata": {},
     "output_type": "execute_result"
    }
   ],
   "source": [
    "spam = [2, 4, 6, 8, 10]\n",
    "spam[: 2]"
   ]
  },
  {
   "cell_type": "markdown",
   "metadata": {},
   "source": [
    "#### Imprime los tantos valores en orden de la lista de acuerdo al valor en spam[: n] "
   ]
  },
  {
   "cell_type": "markdown",
   "metadata": {},
   "source": [
    "## ¿Qué evalúa bacon.index('cat')?"
   ]
  },
  {
   "cell_type": "code",
   "execution_count": 6,
   "metadata": {},
   "outputs": [
    {
     "data": {
      "text/plain": [
       "1"
      ]
     },
     "execution_count": 6,
     "metadata": {},
     "output_type": "execute_result"
    }
   ],
   "source": [
    "bacon = [3.14, 'cat', 11, 'cat', True]\n",
    "bacon.index('cat')\n"
   ]
  },
  {
   "cell_type": "markdown",
   "metadata": {},
   "source": [
    "#### Siendo que linux considera al 0 dentro de sus sucesiones para la realización de iteraciones no asignadas el comando list.index(palabra) regresa la posición en la que se encuentra la \"palabra\" dentro de la lista si se llegase a repetir regresa la posición más cercana al primer elemento \n"
   ]
  },
  {
   "cell_type": "markdown",
   "metadata": {},
   "source": [
    "## ¿Qué evalúa bacon.append(99)?"
   ]
  },
  {
   "cell_type": "code",
   "execution_count": 10,
   "metadata": {},
   "outputs": [
    {
     "name": "stdout",
     "output_type": "stream",
     "text": [
      "[3.14, 'cat', 11, 'cat', True, 99]\n"
     ]
    }
   ],
   "source": [
    "bacon = [3.14, 'cat', 11, 'cat', True]\n",
    "bacon.append(99)\n",
    "print(bacon)"
   ]
  },
  {
   "cell_type": "markdown",
   "metadata": {},
   "source": [
    "#### la función list.append(\"alguna cosa\") agrega al final de la lista la entrada de la función append en este caso \"alguna cosa\""
   ]
  },
  {
   "cell_type": "markdown",
   "metadata": {},
   "source": [
    "## ¿Qué hace bacon.remove('cat')?\n"
   ]
  },
  {
   "cell_type": "code",
   "execution_count": 11,
   "metadata": {},
   "outputs": [
    {
     "name": "stdout",
     "output_type": "stream",
     "text": [
      "[3.14, 11, 'cat', True]\n"
     ]
    }
   ],
   "source": [
    "bacon = [3.14, 'cat', 11, 'cat', True]\n",
    "bacon.remove('cat')\n",
    "print(bacon)"
   ]
  },
  {
   "cell_type": "markdown",
   "metadata": {},
   "source": [
    "#### remueve dentro de la lista la entrada que se le de a la función en caso de existir más de una igual eliminará la variable  con el nombre buscado más cercana al primer elemento "
   ]
  },
  {
   "cell_type": "markdown",
   "metadata": {},
   "source": [
    "## ¿Cuáles son los operadores para la concatenación de listas y la replicación de listas?"
   ]
  },
  {
   "cell_type": "markdown",
   "metadata": {},
   "source": [
    "   \n",
    "#### la operación suma (+) perimite concater paquetes de listas o cadenas con la función append se puede replicar una lista en otra"
   ]
  },
  {
   "cell_type": "code",
   "execution_count": 13,
   "metadata": {},
   "outputs": [
    {
     "name": "stdout",
     "output_type": "stream",
     "text": [
      "[3.14, 'cat', 11, 'cat', True, 2, 4, 6, 8, 10]\n"
     ]
    }
   ],
   "source": [
    "Bacon = [2,4,6,8,10] \n",
    "bacon = [3.14, 'cat', 11, 'cat', True]\n",
    "\n",
    "s = bacon + Bacon\n",
    "print(s)"
   ]
  },
  {
   "cell_type": "code",
   "execution_count": 21,
   "metadata": {},
   "outputs": [
    {
     "name": "stdout",
     "output_type": "stream",
     "text": [
      "[1, [2, 4, 6, 8, 10]]\n"
     ]
    }
   ],
   "source": [
    "Bacon = [2,4,6,8,10] \n",
    "bacon = [1]\n",
    "\n",
    "bacon.append(Bacon)\n",
    "\n",
    "print(bacon)"
   ]
  },
  {
   "cell_type": "markdown",
   "metadata": {},
   "source": [
    "## ¿Cuál es la diferencia entre los métodos de lista append() e insert()?"
   ]
  },
  {
   "cell_type": "markdown",
   "metadata": {},
   "source": [
    "#### En el caso de append agrega la entrada al final de la lista en el caso de insert se puede asignar la entrada en una posición n dada"
   ]
  },
  {
   "cell_type": "markdown",
   "metadata": {},
   "source": [
    "## ¿Cuál es la diferencia entre listas y tuplas?"
   ]
  },
  {
   "cell_type": "markdown",
   "metadata": {},
   "source": [
    "#### Las tuplas son imutables mientras que las listas son variables teniendo menos propiedades"
   ]
  },
  {
   "cell_type": "code",
   "execution_count": null,
   "metadata": {},
   "outputs": [],
   "source": []
  }
 ],
 "metadata": {
  "kernelspec": {
   "display_name": "Python 3",
   "language": "python",
   "name": "python3"
  },
  "language_info": {
   "codemirror_mode": {
    "name": "ipython",
    "version": 3
   },
   "file_extension": ".py",
   "mimetype": "text/x-python",
   "name": "python",
   "nbconvert_exporter": "python",
   "pygments_lexer": "ipython3",
   "version": "3.5.2"
  }
 },
 "nbformat": 4,
 "nbformat_minor": 2
}
